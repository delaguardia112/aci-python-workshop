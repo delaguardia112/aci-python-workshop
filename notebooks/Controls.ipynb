{
 "cells": [
  {
   "cell_type": "markdown",
   "metadata": {},
   "source": [
    "## Basic if statement"
   ]
  },
  {
   "cell_type": "code",
   "execution_count": 28,
   "metadata": {},
   "outputs": [
    {
     "name": "stdout",
     "output_type": "stream",
     "text": [
      "Finished this code block\n"
     ]
    }
   ],
   "source": [
    "x = 6\n",
    "if x<5:\n",
    "    print('x is less than 5')\n",
    "    print('Finished evaluating if block')\n",
    "print('Finished this code block')"
   ]
  },
  {
   "cell_type": "markdown",
   "metadata": {},
   "source": [
    "## Nested if statements"
   ]
  },
  {
   "cell_type": "code",
   "execution_count": 29,
   "metadata": {},
   "outputs": [
    {
     "name": "stdout",
     "output_type": "stream",
     "text": [
      "Finished this code block\n"
     ]
    }
   ],
   "source": [
    "x = 6\n",
    "if x<5:\n",
    "    print('x is less than 5')\n",
    "    print('Finished evaluating outer if block')\n",
    "    \n",
    "    if x>2:\n",
    "        print('but x is greater than 2')\n",
    "        print('Finished evaluating inner if block')\n",
    "print('Finished this code block')"
   ]
  },
  {
   "cell_type": "markdown",
   "metadata": {},
   "source": [
    "## Condition with logical operator"
   ]
  },
  {
   "cell_type": "code",
   "execution_count": 30,
   "metadata": {},
   "outputs": [
    {
     "name": "stdout",
     "output_type": "stream",
     "text": [
      "Finished this code block\n"
     ]
    }
   ],
   "source": [
    "x = 6\n",
    "if x<5 and x>2:\n",
    "    print('x is less than 5 and greater than 2')\n",
    "    print('Finished evaluating  if block')\n",
    "print('Finished this code block')"
   ]
  },
  {
   "cell_type": "markdown",
   "metadata": {},
   "source": [
    "## if-else statement"
   ]
  },
  {
   "cell_type": "code",
   "execution_count": 32,
   "metadata": {},
   "outputs": [
    {
     "name": "stdout",
     "output_type": "stream",
     "text": [
      "x is greater than 5\n",
      "Finished this code block\n",
      "x is greater than 5\n",
      "Finished this code block\n"
     ]
    }
   ],
   "source": [
    "x = 6\n",
    "#Two condition evaluations\n",
    "if x<5:\n",
    "    print('x is less than 5')\n",
    "if x>5:\n",
    "    print('x is greater than 5')\n",
    "print('Finished this code block')\n",
    "\n",
    "#One condition evaluation\n",
    "if x<5:\n",
    "    print('x is less than 5')\n",
    "else:\n",
    "    print('x is greater than 5')\n",
    "print('Finished this code block')"
   ]
  },
  {
   "cell_type": "markdown",
   "metadata": {},
   "source": [
    "# if-elif-else statement"
   ]
  },
  {
   "cell_type": "code",
   "execution_count": 33,
   "metadata": {},
   "outputs": [
    {
     "name": "stdout",
     "output_type": "stream",
     "text": [
      "x is greater than 5\n",
      "Finished this code block\n"
     ]
    }
   ],
   "source": [
    "x = 6\n",
    "if x<5:\n",
    "    print('x is less than 5')\n",
    "elif x>5:\n",
    "    print('x is greater than 5')\n",
    "else:\n",
    "    print('x is equal to 5')\n",
    "print('Finished this code block')"
   ]
  },
  {
   "cell_type": "markdown",
   "metadata": {},
   "source": [
    "## while loop"
   ]
  },
  {
   "cell_type": "code",
   "execution_count": 34,
   "metadata": {},
   "outputs": [
    {
     "name": "stdout",
     "output_type": "stream",
     "text": [
      "The value of x is  3\n",
      "The value of x is  4\n",
      "The value of x is  5\n"
     ]
    }
   ],
   "source": [
    "x = 3\n",
    "while(x<6):\n",
    "    print('The value of x is ',x)\n",
    "    x+=1"
   ]
  },
  {
   "cell_type": "markdown",
   "metadata": {},
   "source": [
    "## simple for loop"
   ]
  },
  {
   "cell_type": "code",
   "execution_count": 35,
   "metadata": {},
   "outputs": [
    {
     "name": "stdout",
     "output_type": "stream",
     "text": [
      "[0, 1, 2]\n",
      "The value of i is  0\n",
      "The value of i is  1\n",
      "The value of i is  2\n"
     ]
    }
   ],
   "source": [
    "x = range(3)\n",
    "print(list(x))\n",
    "for i in x:\n",
    "    print('The value of i is ',i)"
   ]
  },
  {
   "cell_type": "markdown",
   "metadata": {},
   "source": [
    "## for loop with mixed data types"
   ]
  },
  {
   "cell_type": "code",
   "execution_count": 36,
   "metadata": {},
   "outputs": [
    {
     "name": "stdout",
     "output_type": "stream",
     "text": [
      "Harry\n",
      "(0, 1, 2)\n",
      "1\n"
     ]
    }
   ],
   "source": [
    "for i in ['Harry',(0,1,2),1]:\n",
    "    print(i)"
   ]
  },
  {
   "cell_type": "markdown",
   "metadata": {},
   "source": [
    "## for loop with multiple variables"
   ]
  },
  {
   "cell_type": "code",
   "execution_count": 37,
   "metadata": {},
   "outputs": [
    {
     "name": "stdout",
     "output_type": "stream",
     "text": [
      "[(0, 10, 21), (1, 11, 22), (2, 12, 23)]\n",
      "0 + 10 + 21 = 10\n",
      "1 + 11 + 22 = 12\n",
      "2 + 12 + 23 = 14\n"
     ]
    }
   ],
   "source": [
    "x = [0,1,2]\n",
    "y = [10,11,12]\n",
    "z = [21,22,23]\n",
    "print(list(zip(x,y,z)))\n",
    "for i,j,k in zip(x,y,z):\n",
    "    print(i,'+',j,'+',k,'=',i+j)"
   ]
  },
  {
   "cell_type": "markdown",
   "metadata": {
    "collapsed": true
   },
   "source": [
    "## In-line for loop"
   ]
  },
  {
   "cell_type": "code",
   "execution_count": 3,
   "metadata": {},
   "outputs": [
    {
     "name": "stdout",
     "output_type": "stream",
     "text": [
      "[0, 1, 4, 9, 16]\n"
     ]
    }
   ],
   "source": [
    "x = [i**2 for i in range(5)]\n",
    "print(x)"
   ]
  },
  {
   "cell_type": "markdown",
   "metadata": {
    "collapsed": true
   },
   "source": [
    "## Break, continue, and pass"
   ]
  },
  {
   "cell_type": "code",
   "execution_count": 1,
   "metadata": {},
   "outputs": [
    {
     "name": "stdout",
     "output_type": "stream",
     "text": [
      "0\n",
      "1\n",
      "2\n",
      "4\n",
      "5\n",
      "6\n",
      "7\n"
     ]
    }
   ],
   "source": [
    "for x in range(10):\n",
    "    if x==3:\n",
    "        continue\n",
    "    if x==5:\n",
    "        pass\n",
    "    if x==8:\n",
    "        break\n",
    "    print(x)"
   ]
  },
  {
   "cell_type": "code",
   "execution_count": null,
   "metadata": {
    "collapsed": true
   },
   "outputs": [],
   "source": []
  }
 ],
 "metadata": {
  "kernelspec": {
   "display_name": "Python 3",
   "language": "python",
   "name": "python3"
  },
  "language_info": {
   "codemirror_mode": {
    "name": "ipython",
    "version": 3
   },
   "file_extension": ".py",
   "mimetype": "text/x-python",
   "name": "python",
   "nbconvert_exporter": "python",
   "pygments_lexer": "ipython3",
   "version": "3.6.7"
  }
 },
 "nbformat": 4,
 "nbformat_minor": 2
}
