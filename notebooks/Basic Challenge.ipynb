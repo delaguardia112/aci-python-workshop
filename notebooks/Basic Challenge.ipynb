{
 "cells": [
  {
   "cell_type": "markdown",
   "metadata": {},
   "source": [
    "## Problem statement\n",
    "In this problem, you are required to define a function prime_check() that takes in an integer, and prints \"This is a prime number\" if it is a prime number, and \"This is not a prime number\" otherwise. The algorithm is as follows:\n",
    "\n",
    "- Negative integers and zero are invalid inputs\n",
    "- If the number is 1 or 2, it's a prime number\n",
    "- For other numbers, divide it sequentially by each number between 2 and *half* the number\n",
    "- If, during the above process, the remainder is *ever* zero, it is not a prime number, otherwise it is"
   ]
  },
  {
   "cell_type": "markdown",
   "metadata": {},
   "source": [
    "## Simple solution"
   ]
  },
  {
   "cell_type": "code",
   "execution_count": null,
   "metadata": {},
   "outputs": [],
   "source": [
    "def prime_check(x):\n",
    "    '''\n",
    "    Prints a message indicating if x is a prime number or not\n",
    "    If x is invalid (negative integer or zero), prints a message\n",
    "    x is of type int\n",
    "    '''\n",
    "    if x<=0:\n",
    "        print(\"Invalid\")\n",
    "    elif x==1 or x==2:\n",
    "        print(\"This is a prime number\")\n",
    "    else:\n",
    "        if is_prime(x):\n",
    "            print(\"This is a prime number\")\n",
    "        else:\n",
    "            print(\"This is not a prime number\")\n",
    "\n",
    "def is_prime(x):\n",
    "    '''\n",
    "    Checks if a valid input x is a prime number\n",
    "    Returns True is x is prime\n",
    "    Returns False is x is not prime\n",
    "    x is of type int\n",
    "    '''\n",
    "    prime = True\n",
    "    \n",
    "    for y in range(2,(x//2)+1):\n",
    "        if x%y == 0:\n",
    "            prime = False\n",
    "            break\n",
    "    \n",
    "    return prime\n",
    "\n",
    "prime_check(1373)"
   ]
  },
  {
   "cell_type": "markdown",
   "metadata": {},
   "source": [
    "## Complicated solution"
   ]
  },
  {
   "cell_type": "code",
   "execution_count": null,
   "metadata": {},
   "outputs": [],
   "source": [
    "def prime_check(x):\n",
    "    '''\n",
    "    Prints a message indicating if x is a prime number or not\n",
    "    If x is invalid (negative integer or zero), prints a message\n",
    "    x is of type int\n",
    "    '''\n",
    "    if x<=0:\n",
    "        print(\"Invalid\")\n",
    "    elif x==1 or x==2:\n",
    "        print(\"This is a prime number\")\n",
    "    else:\n",
    "        if is_prime(x):\n",
    "            print(\"This is a prime number\")\n",
    "        else:\n",
    "            print(\"This is not a prime number\")\n",
    "\n",
    "def is_prime(x):\n",
    "    '''\n",
    "    Checks if a valid input x is a prime number\n",
    "    Evaluates in one line\n",
    "    Returns True is x is prime\n",
    "    Returns False is x is not prime\n",
    "    x is of type int \n",
    "    '''\n",
    "    return not bool(len([i for i \n",
    "                         in range(2,(x//2)+1) if x%i==0]))\n",
    "\n",
    "prime_check(1373)"
   ]
  },
  {
   "cell_type": "code",
   "execution_count": null,
   "metadata": {
    "collapsed": true
   },
   "outputs": [],
   "source": []
  }
 ],
 "metadata": {
  "kernelspec": {
   "display_name": "Python 3",
   "language": "python",
   "name": "python3"
  },
  "language_info": {
   "codemirror_mode": {
    "name": "ipython",
    "version": 3
   },
   "file_extension": ".py",
   "mimetype": "text/x-python",
   "name": "python",
   "nbconvert_exporter": "python",
   "pygments_lexer": "ipython3",
   "version": "3.6.7"
  }
 },
 "nbformat": 4,
 "nbformat_minor": 2
}
